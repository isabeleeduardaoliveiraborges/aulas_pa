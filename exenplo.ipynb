{
  "nbformat": 4,
  "nbformat_minor": 0,
  "metadata": {
    "colab": {
      "provenance": [],
      "authorship_tag": "ABX9TyNY8/+dcAp/Xibkb7XN5Fsa",
      "include_colab_link": true
    },
    "kernelspec": {
      "name": "python3",
      "display_name": "Python 3"
    },
    "language_info": {
      "name": "python"
    }
  },
  "cells": [
    {
      "cell_type": "markdown",
      "metadata": {
        "id": "view-in-github",
        "colab_type": "text"
      },
      "source": [
        "<a href=\"https://colab.research.google.com/github/isabeleeduardaoliveiraborges/aulas_pa/blob/main/exenplo.ipynb\" target=\"_parent\"><img src=\"https://colab.research.google.com/assets/colab-badge.svg\" alt=\"Open In Colab\"/></a>"
      ]
    },
    {
      "cell_type": "code",
      "execution_count": null,
      "metadata": {
        "id": "7GGCO4N3DQth"
      },
      "outputs": [],
      "source": []
    },
    {
      "cell_type": "markdown",
      "source": [
        "# **exemplo**"
      ],
      "metadata": {
        "id": "1BxFH3fNEJXa"
      }
    },
    {
      "cell_type": "code",
      "source": [
        "nome =\"isabele eduarda\"\n",
        "idade =14"
      ],
      "metadata": {
        "id": "Ia6TFKHqFEQN"
      },
      "execution_count": null,
      "outputs": []
    },
    {
      "cell_type": "code",
      "source": [
        "print(idade)"
      ],
      "metadata": {
        "colab": {
          "base_uri": "https://localhost:8080/"
        },
        "id": "h7xhLTOVF5LZ",
        "outputId": "30763a55-d948-4661-a22a-f83cd0259348"
      },
      "execution_count": null,
      "outputs": [
        {
          "output_type": "stream",
          "name": "stdout",
          "text": [
            "14\n"
          ]
        }
      ]
    },
    {
      "cell_type": "code",
      "source": [
        "print(\"seu nome e nome\",nome)"
      ],
      "metadata": {
        "colab": {
          "base_uri": "https://localhost:8080/"
        },
        "id": "oOmQ6F_eGq99",
        "outputId": "2e711608-87c8-430f-c433-a4ff05152c6d"
      },
      "execution_count": null,
      "outputs": [
        {
          "output_type": "stream",
          "name": "stdout",
          "text": [
            "seu nome e nome isabele eduarda\n"
          ]
        }
      ]
    },
    {
      "cell_type": "code",
      "source": [
        "print(\"sua idade e\",idade,\"anos de idade\")"
      ],
      "metadata": {
        "colab": {
          "base_uri": "https://localhost:8080/"
        },
        "id": "i2O26Hb3HEtE",
        "outputId": "4a7a1ac8-69b6-41e6-ae2e-1a9dc0ed40c2"
      },
      "execution_count": null,
      "outputs": [
        {
          "output_type": "stream",
          "name": "stdout",
          "text": [
            "sua idade e 14 anos de idade\n"
          ]
        }
      ]
    },
    {
      "cell_type": "code",
      "source": [
        "print(\"seu nome e nome\",nome,\"\\nSua idade e\",idade,\"anos de idade\")"
      ],
      "metadata": {
        "colab": {
          "base_uri": "https://localhost:8080/"
        },
        "id": "p0i0_oxIH9-_",
        "outputId": "63fae95b-b461-40e3-d32d-9a6605015b55"
      },
      "execution_count": null,
      "outputs": [
        {
          "output_type": "stream",
          "name": "stdout",
          "text": [
            "seu nome e nome isabele eduarda \n",
            "Sua idade e 14 anos de idade\n"
          ]
        }
      ]
    },
    {
      "cell_type": "markdown",
      "source": [
        "# **operadores aritmeticos**"
      ],
      "metadata": {
        "id": "X6RbeAi9JBpO"
      }
    },
    {
      "cell_type": "code",
      "source": [
        "n1=7\n",
        "n2=8\n",
        "n3=10"
      ],
      "metadata": {
        "id": "8CBPFn7qJX9z"
      },
      "execution_count": null,
      "outputs": []
    },
    {
      "cell_type": "code",
      "source": [
        "media=(n1+n2+n3)/3\n",
        "media"
      ],
      "metadata": {
        "colab": {
          "base_uri": "https://localhost:8080/"
        },
        "id": "6bN61p9RJ3As",
        "outputId": "c22412d3-e2a8-41ea-99ad-f8d7c04734d7"
      },
      "execution_count": null,
      "outputs": [
        {
          "output_type": "execute_result",
          "data": {
            "text/plain": [
              "8.333333333333334"
            ]
          },
          "metadata": {},
          "execution_count": 20
        }
      ]
    },
    {
      "cell_type": "code",
      "source": [
        "print(\"sua media e de\",media)"
      ],
      "metadata": {
        "colab": {
          "base_uri": "https://localhost:8080/"
        },
        "id": "HEsAvyzNK9pa",
        "outputId": "07f4f8e3-bce3-482a-c2c2-ff82a01c2f18"
      },
      "execution_count": null,
      "outputs": [
        {
          "output_type": "stream",
          "name": "stdout",
          "text": [
            "sua media e de 8.333333333333334\n"
          ]
        }
      ]
    },
    {
      "cell_type": "code",
      "source": [
        "round(media,1)"
      ],
      "metadata": {
        "colab": {
          "base_uri": "https://localhost:8080/"
        },
        "id": "0tZPZB_6LbB8",
        "outputId": "ba3ea6f2-31e0-4f19-8203-52c945697a91"
      },
      "execution_count": null,
      "outputs": [
        {
          "output_type": "execute_result",
          "data": {
            "text/plain": [
              "8.3"
            ]
          },
          "metadata": {},
          "execution_count": 24
        }
      ]
    },
    {
      "cell_type": "code",
      "source": [
        "print(\"sua media e de\",round(media,1))"
      ],
      "metadata": {
        "colab": {
          "base_uri": "https://localhost:8080/"
        },
        "id": "09waKxmqKux4",
        "outputId": "1acad781-5b85-430d-fd28-ededad6f3699"
      },
      "execution_count": null,
      "outputs": [
        {
          "output_type": "stream",
          "name": "stdout",
          "text": [
            "sua media e de 8.3\n"
          ]
        }
      ]
    },
    {
      "cell_type": "code",
      "source": [
        " nome=input(\"digite seu nome: \")\n",
        " nome"
      ],
      "metadata": {
        "colab": {
          "base_uri": "https://localhost:8080/",
          "height": 53
        },
        "id": "lQQemPRGSAGD",
        "outputId": "3d842c62-ad73-4117-d148-177273c12728"
      },
      "execution_count": null,
      "outputs": [
        {
          "name": "stdout",
          "output_type": "stream",
          "text": [
            "digite seu nome: isabele\n"
          ]
        },
        {
          "output_type": "execute_result",
          "data": {
            "text/plain": [
              "'isabele'"
            ],
            "application/vnd.google.colaboratory.intrinsic+json": {
              "type": "string"
            }
          },
          "metadata": {},
          "execution_count": 26
        }
      ]
    },
    {
      "cell_type": "code",
      "source": [
        "ano_nasc=input(\"digite seu ano de nacimento\")\n",
        "ano_nasc\n"
      ],
      "metadata": {
        "colab": {
          "base_uri": "https://localhost:8080/",
          "height": 53
        },
        "id": "R6QXF4uhS2sz",
        "outputId": "c2349ec5-48d8-4532-c89c-553ab63d2fc8"
      },
      "execution_count": null,
      "outputs": [
        {
          "name": "stdout",
          "output_type": "stream",
          "text": [
            "digite seu ano de nacimento2009\n"
          ]
        },
        {
          "output_type": "execute_result",
          "data": {
            "text/plain": [
              "'2009'"
            ],
            "application/vnd.google.colaboratory.intrinsic+json": {
              "type": "string"
            }
          },
          "metadata": {},
          "execution_count": 30
        }
      ]
    },
    {
      "cell_type": "code",
      "source": [
        "idade=2024-ano_nasc"
      ],
      "metadata": {
        "id": "KvVTsApaTij1"
      },
      "execution_count": null,
      "outputs": []
    },
    {
      "cell_type": "code",
      "source": [
        "type(ano_nasc)"
      ],
      "metadata": {
        "colab": {
          "base_uri": "https://localhost:8080/"
        },
        "id": "MhDndIexUMYG",
        "outputId": "d56c5bee-b1b7-4e16-be8f-4a6fddd09f60"
      },
      "execution_count": null,
      "outputs": [
        {
          "output_type": "execute_result",
          "data": {
            "text/plain": [
              "str"
            ]
          },
          "metadata": {},
          "execution_count": 33
        }
      ]
    },
    {
      "cell_type": "code",
      "source": [
        "ano_nasc=int(ano_nasc)"
      ],
      "metadata": {
        "id": "Nb6VbId6UhDa"
      },
      "execution_count": null,
      "outputs": []
    },
    {
      "cell_type": "code",
      "source": [
        "type(ano_nasc)"
      ],
      "metadata": {
        "colab": {
          "base_uri": "https://localhost:8080/"
        },
        "id": "0C1elgJOU9V_",
        "outputId": "3914d82e-6763-44c4-c24c-dcd1cec32d2c"
      },
      "execution_count": null,
      "outputs": [
        {
          "output_type": "execute_result",
          "data": {
            "text/plain": [
              "int"
            ]
          },
          "metadata": {},
          "execution_count": 36
        }
      ]
    },
    {
      "cell_type": "code",
      "source": [
        "idade=2024-ano_nasc\n",
        "idade"
      ],
      "metadata": {
        "colab": {
          "base_uri": "https://localhost:8080/"
        },
        "id": "CPtwV9fKVQZ8",
        "outputId": "c116e600-c1bd-418d-c9ab-d2138cd0386a"
      },
      "execution_count": null,
      "outputs": [
        {
          "output_type": "execute_result",
          "data": {
            "text/plain": [
              "15"
            ]
          },
          "metadata": {},
          "execution_count": 37
        }
      ]
    },
    {
      "cell_type": "code",
      "source": [
        "x=7\n",
        "#obtendo resto da divisao de x por 2\n",
        "divisao_normal=x/2\n",
        "resto=x%2\n",
        "quociente=x//2\n",
        "print(\"divisão_normal\",divisao_normal)\n",
        "print(\"resto-mod%\",resto)\n",
        "print(\"quociente-div//\",quociente)"
      ],
      "metadata": {
        "colab": {
          "base_uri": "https://localhost:8080/"
        },
        "id": "1epQ8vBgXSDD",
        "outputId": "1f5679a6-0685-4983-e8a6-1f1a43d66041"
      },
      "execution_count": null,
      "outputs": [
        {
          "output_type": "stream",
          "name": "stdout",
          "text": [
            "divisão_normal 3.5\n",
            "resto-mod% 1\n",
            "quociente-div// 3\n"
          ]
        }
      ]
    }
  ]
}